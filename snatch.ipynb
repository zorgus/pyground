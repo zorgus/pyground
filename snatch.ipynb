{
 "metadata": {
  "name": "",
  "signature": "sha256:ca49965def1f11bcb48c7b77de819b1832b88c80f987da06388c9fa8e03c04c1"
 },
 "nbformat": 3,
 "nbformat_minor": 0,
 "worksheets": [
  {
   "cells": [
    {
     "cell_type": "code",
     "collapsed": false,
     "input": [],
     "language": "python",
     "metadata": {},
     "outputs": []
    }
   ],
   "metadata": {}
  }
 ]
}